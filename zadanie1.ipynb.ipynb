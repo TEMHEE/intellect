{
 "cells": [
  {
   "cell_type": "markdown",
   "id": "593e919f-221f-4e68-b197-f99a78b025ec",
   "metadata": {},
   "source": [
    "#Практическое задание №1\"\n",
    "\n",
    "**Полужирный текст**, *курсив*\n",
    "Нумерованный спиское:\n",
    "1. Понедельник\n",
    "2. Вторник\n",
    "3. Среда\n",
    "4. Четверг\n",
    "5. Пятница\n",
    "6. Суббота\n",
    "7. Воскресенье\n",
    "\n",
    "Маркированный список:\n",
    "* Понедельник\n",
    "* Вторник\n",
    "* Среда\n",
    "* Четверг\n",
    "* Пятница\n",
    "  * Суббота\n",
    "  * Воскресенье\n",
    "\n",
    "Вариант 24\n",
    "\n",
    "log_b(x)-log_b(y)=log_b(x/y)\n",
    "\n",
    "![Простите, что так поздно](https://buh.ru/upload/iblock/b3c/b3c584cd988dbb57a1cb7558a550ec38.gif)"
   ]
  },
  {
   "cell_type": "code",
   "execution_count": 1,
   "id": "85cf4fae-3603-4d86-b823-5502ac9e703c",
   "metadata": {},
   "outputs": [
    {
     "name": "stdin",
     "output_type": "stream",
     "text": [
      "Введите ваще имя:  VVVV\n"
     ]
    },
    {
     "name": "stdout",
     "output_type": "stream",
     "text": [
      "Привет, VVVV! Добро пожаловать в JupyterLab/Google Colab!\n"
     ]
    }
   ],
   "source": [
    "name=input(\"Введите ваще имя: \")\n",
    "print(\"Привет, \" + name + \"! Добро пожаловать в JupyterLab/Google Colab!\")"
   ]
  },
  {
   "cell_type": "code",
   "execution_count": 6,
   "id": "add34447-a756-4c96-bdf5-e1f486edc149",
   "metadata": {},
   "outputs": [
    {
     "name": "stdout",
     "output_type": "stream",
     "text": [
      "Содержимое файла:\n",
      " первая строка\n",
      "вторая строка\n",
      "\n",
      "Файл существует: True\n",
      "Файл удален.\n"
     ]
    }
   ],
   "source": [
    "import os\n",
    "with open(\"example.txt\", \"w\") as f:\n",
    "    f.write(\"первая строка\\n\")\n",
    "    f.write(\"вторая строка\\n\")\n",
    "with open(\"example.txt\", \"r\") as f:\n",
    "    content = f.read()\n",
    "    print(\"Содержимое файла:\\n\", content)\n",
    "print(\"Файл существует:\", os.path.exists(\"example.txt\"))\n",
    "os.remove(\"example.txt\")\n",
    "print(\"Файл удален.\")"
   ]
  },
  {
   "cell_type": "code",
   "execution_count": null,
   "id": "2e7197da-1f2a-44ee-bca9-2eef09fb258e",
   "metadata": {},
   "outputs": [],
   "source": []
  }
 ],
 "metadata": {
  "kernelspec": {
   "display_name": "Python [conda env:base] *",
   "language": "python",
   "name": "conda-base-py"
  },
  "language_info": {
   "codemirror_mode": {
    "name": "ipython",
    "version": 3
   },
   "file_extension": ".py",
   "mimetype": "text/x-python",
   "name": "python",
   "nbconvert_exporter": "python",
   "pygments_lexer": "ipython3",
   "version": "3.12.7"
  }
 },
 "nbformat": 4,
 "nbformat_minor": 5
}
