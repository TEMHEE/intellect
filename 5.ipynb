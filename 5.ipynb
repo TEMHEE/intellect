{
  "nbformat": 4,
  "nbformat_minor": 0,
  "metadata": {
    "colab": {
      "provenance": []
    },
    "kernelspec": {
      "name": "python3",
      "display_name": "Python 3"
    },
    "language_info": {
      "name": "python"
    }
  },
  "cells": [
    {
      "cell_type": "code",
      "source": [
        "from google.colab import drive\n",
        "# Подключение Google Drive\n",
        "drive.mount('/content/drive')\n",
        "# Запись текста в файл\n",
        "file_path = \"/content/drive/MyDrive/my_text_file.txt\"\n",
        "with open(file_path, \"w\") as f:\n",
        "  f.write(\"Это тестовый файл, сохраненный в Google Drive.\\n\")\n",
        "  f.write(\"Вторая строка текста.\")\n",
        "print(\"Файл успешно сохранен в Google Drive.\")\n",
        "# Чтение файла\n",
        "with open(file_path, \"r\") as f:\n",
        "    content = f.read()\n",
        "print(\"Содержимое файла:\\n\", content)\n",
        "# Создание CSV вручную\n",
        "students = [\n",
        "[\"Иванов И.И.\", 20, \"ИВТ-101\"],\n",
        "[\"Петров П.П.\", 22, \"ИВТ-102\"],\n",
        "[\"Сидорова А.А.\", 21, \"ИВТ-103\"]\n",
        "]\n",
        "csv_path = \"/content/drive/MyDrive/students.csv\"\n",
        "with open(csv_path, \"w\") as f:\n",
        "  for student in students:\n",
        "    f.write(\",\".join(map(str, student)) + \"\\n\")\n",
        "print(\"Файл students.csv успешно сохранен в Google Drive.\")"
      ],
      "metadata": {
        "id": "mTpSn75yaLVg"
      },
      "execution_count": null,
      "outputs": []
    },
    {
      "cell_type": "code",
      "source": [
        "from google.colab import drive\n",
        "# Подключение Google Drive\n",
        "drive.mount('/content/drive')\n",
        "# Запись текста в файл\n",
        "file_path = \"/content/drive/MyDrive/my_text_file.txt\"\n",
        "with open(file_path, \"w\") as f:\n",
        "  f.write(\"Это тестовый файл, сохраненный в Google Drive.\\n\")\n",
        "  f.write(\"Вторая строка текста.\")\n",
        "print(\"Файл успешно сохранен в Google Drive.\")\n",
        "# Чтение файла\n",
        "with open(file_path, \"r\") as f:\n",
        "    content = f.read()\n",
        "print(\"Содержимое файла:\\n\", content)\n",
        "# Создание CSV вручную\n",
        "students = [\n",
        "[\"Иванов И.И.\", 20, \"ИВТ-101\"],\n",
        "[\"Петров П.П.\", 22, \"ИВТ-102\"],\n",
        "[\"Сидорова А.А.\", 21, \"ИВТ-103\"]\n",
        "]\n",
        "csv_path = \"/content/drive/MyDrive/students.csv\"\n",
        "with open(csv_path, \"w\") as f:\n",
        "  for student in students:\n",
        "    f.write(\",\".join(map(str, student)) + \"\\n\")\n",
        "print(\"Файл students.csv успешно сохранен в Google Drive.\")"
      ],
      "metadata": {
        "id": "DFv27apCaMZ2",
        "colab": {
          "base_uri": "https://localhost:8080/"
        },
        "outputId": "3dc919d8-b3ba-41f6-8e9f-3507f935bbd9"
      },
      "execution_count": 2,
      "outputs": [
        {
          "output_type": "stream",
          "name": "stdout",
          "text": [
            "Drive already mounted at /content/drive; to attempt to forcibly remount, call drive.mount(\"/content/drive\", force_remount=True).\n",
            "Файл успешно сохранен в Google Drive.\n",
            "Содержимое файла:\n",
            " Это тестовый файл, сохраненный в Google Drive.\n",
            "Вторая строка текста.\n",
            "Файл students.csv успешно сохранен в Google Drive.\n"
          ]
        }
      ]
    }
  ]
}